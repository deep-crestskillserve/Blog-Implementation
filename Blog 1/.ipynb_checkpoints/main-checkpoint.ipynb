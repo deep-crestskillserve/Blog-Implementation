{
 "cells": [
  {
   "cell_type": "markdown",
   "id": "5a846c59-8906-4606-8fab-4d6f111c68c1",
   "metadata": {},
   "source": [
    "# Blog 1: Build generative AI applications on Amazon Bedrock with the AWS SDK for Python (Boto3)"
   ]
  },
  {
   "cell_type": "code",
   "execution_count": 1,
   "id": "9bb08c41-3983-4a57-ae47-e8bae42a7a82",
   "metadata": {},
   "outputs": [],
   "source": [
    "import pandas"
   ]
  },
  {
   "cell_type": "code",
   "execution_count": null,
   "id": "b392c88b-dfb4-40fd-819d-db624954b723",
   "metadata": {},
   "outputs": [],
   "source": []
  }
 ],
 "metadata": {
  "kernelspec": {
   "display_name": "Python [conda env:base] *",
   "language": "python",
   "name": "conda-base-py"
  },
  "language_info": {
   "codemirror_mode": {
    "name": "ipython",
    "version": 3
   },
   "file_extension": ".py",
   "mimetype": "text/x-python",
   "name": "python",
   "nbconvert_exporter": "python",
   "pygments_lexer": "ipython3",
   "version": "3.12.7"
  }
 },
 "nbformat": 4,
 "nbformat_minor": 5
}
